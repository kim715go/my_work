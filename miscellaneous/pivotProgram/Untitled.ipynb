{
 "cells": [
  {
   "cell_type": "code",
   "execution_count": 1,
   "metadata": {},
   "outputs": [],
   "source": [
    "import pandas as pd"
   ]
  },
  {
   "cell_type": "code",
   "execution_count": 2,
   "metadata": {},
   "outputs": [],
   "source": [
    "test = pd.read_excel(\"건물 정보.xlsx\")"
   ]
  },
  {
   "cell_type": "code",
   "execution_count": 17,
   "metadata": {},
   "outputs": [
    {
     "data": {
      "text/plain": [
       "array(['인문대학', '사범대학', '법과대학', '사회과학대학', '복합교육연구시설', '자연과학대학', '약학대학',\n",
       "       '공과대학', '식당', '글로벌공학교육센터', '교수학습개발센터', '미술대학', '음악대학', '행정대학원',\n",
       "       '경영대', '행정관', '중앙도서관', '학생회관', '기타', '학생지원시설', '기반시설', '실험동물자원관리원',\n",
       "       '박물관', '포스코스포츠센터', '대학신문', '수의과대학', '환경대학원', '치의학대학원', '환경안전원',\n",
       "       '정보화본부', '규장각한국학연구원', '연구소', '교수 아파트', '호암교수회관', '언어교육원', '국제대학원',\n",
       "       '입학본부', '미술관', '국제협력본부', '농업생명과학대학', '보건대학원', '생활과학대학', '기숙사',\n",
       "       '교직원아파트', '어린이보육지원센터'], dtype=object)"
      ]
     },
     "execution_count": 17,
     "metadata": {},
     "output_type": "execute_result"
    }
   ],
   "source": [
    "test.iloc[:,3].drop_duplicates().values"
   ]
  },
  {
   "cell_type": "code",
   "execution_count": null,
   "metadata": {},
   "outputs": [],
   "source": []
  }
 ],
 "metadata": {
  "kernelspec": {
   "display_name": "Python 3",
   "language": "python",
   "name": "python3"
  },
  "language_info": {
   "codemirror_mode": {
    "name": "ipython",
    "version": 3
   },
   "file_extension": ".py",
   "mimetype": "text/x-python",
   "name": "python",
   "nbconvert_exporter": "python",
   "pygments_lexer": "ipython3",
   "version": "3.6.5"
  }
 },
 "nbformat": 4,
 "nbformat_minor": 2
}
